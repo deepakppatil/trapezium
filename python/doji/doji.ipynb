{
 "cells": [
  {
   "cell_type": "code",
   "execution_count": 1,
   "id": "266f2a4d-c046-4da6-8c43-a2a5b59780b1",
   "metadata": {},
   "outputs": [
    {
     "name": "stderr",
     "output_type": "stream",
     "text": [
      "/Users/dp/Workspace/trapezium/python/dev-env/lib/python3.12/site-packages/mpl_finance.py:16: DeprecationWarning: \n",
      "\n",
      "  =================================================================\n",
      "\n",
      "   WARNING: `mpl_finance` is deprecated:\n",
      "\n",
      "    Please use `mplfinance` instead (no hyphen, no underscore).\n",
      "\n",
      "    To install: `pip install --upgrade mplfinance` \n",
      "\n",
      "   For more information, see: https://pypi.org/project/mplfinance/\n",
      "\n",
      "  =================================================================\n",
      "\n",
      "  __warnings.warn('\\n\\n  ================================================================='+\n"
     ]
    }
   ],
   "source": [
    "import pandas as pd\n",
    "import talib\n",
    "import numpy as np\n",
    "import numpy as np\n",
    "import matplotlib as plt\n",
    "import matplotlib.pyplot as plt\n",
    "from scipy.signal import argrelmax\n",
    "from scipy.signal import argrelmin\n",
    "from mpl_finance import candlestick2_ohlc\n",
    "from mpl_finance import candlestick_ohlc\n",
    "import matplotlib.dates as mdates\n",
    "import matplotlib.ticker as mticker"
   ]
  },
  {
   "cell_type": "code",
   "execution_count": 3,
   "id": "f32aec3b-66fd-485a-927c-1db368f3f767",
   "metadata": {},
   "outputs": [],
   "source": [
    "\n",
    "df = pd.read_csv('../data/tick.csv')\n",
    "\n",
    "#List all columns in CSV file\n",
    "df.columns = ['date', 'open', 'high', 'low', 'close', 'volume']\n",
    "\n",
    "#Set index values (0, 1, 2...) as a Date Value\n",
    "df = df.set_index(df.date)\n"
   ]
  },
  {
   "cell_type": "code",
   "execution_count": 7,
   "id": "e65322db-d762-466a-a755-f200413c7162",
   "metadata": {},
   "outputs": [
    {
     "name": "stdout",
     "output_type": "stream",
     "text": [
      "date\n",
      "01/02/2019 05:00:00    01/02/2019 05:00:00\n",
      "02/01/2019 06:00:00    02/01/2019 06:00:00\n",
      "02/01/2019 07:00:00    02/01/2019 07:00:00\n",
      "02/01/2019 08:00:00    02/01/2019 08:00:00\n",
      "02/01/2019 09:00:00    02/01/2019 09:00:00\n",
      "                              ...         \n",
      "31/01/2019 16:00:00    31/01/2019 16:00:00\n",
      "31/01/2019 17:00:00    31/01/2019 17:00:00\n",
      "31/01/2019 18:00:00    31/01/2019 18:00:00\n",
      "31/01/2019 19:00:00    31/01/2019 19:00:00\n",
      "31/01/2019 20:00:00    31/01/2019 20:00:00\n",
      "Name: date, Length: 533, dtype: object\n"
     ]
    }
   ],
   "source": [
    "print(df['date'])"
   ]
  },
  {
   "cell_type": "code",
   "execution_count": 8,
   "id": "c47a2d94-c741-4dc9-a2b6-f2665c35c448",
   "metadata": {},
   "outputs": [],
   "source": [
    "df = df.drop_duplicates(keep=False)\n",
    "\n",
    "#Convert Date column to a list\n",
    "df['date'] = pd.to_datetime(df['date'], format=\"%d/%m/%Y %H:%M:%S\").tolist()\n"
   ]
  },
  {
   "cell_type": "code",
   "execution_count": 10,
   "id": "34f06631-8c6d-4842-8781-bbebbce5c09d",
   "metadata": {},
   "outputs": [],
   "source": [
    "#Only select last 200 values ['start':'end']\n",
    "df = df.iloc[:200]\n",
    "\n",
    "#Make copies of each column not to corrupt data\n",
    "open = df.open.copy()\n",
    "high = df.high.copy()\n",
    "low = df.low.copy()\n",
    "close = df.close.copy()\n",
    "volume = df.volume.copy()\n",
    "prices = df.close.copy()\n",
    "\n",
    "#TA-LIB Doji Scanner\n",
    "doji = talib.CDLDOJI(open, high, low, close)\n",
    "doji_star = talib.CDLDRAGONFLYDOJI(open, high, low, close)"
   ]
  },
  {
   "cell_type": "code",
   "execution_count": 11,
   "id": "ad3fa118-9c3a-4fed-89cb-1d8961c69575",
   "metadata": {},
   "outputs": [
    {
     "name": "stdout",
     "output_type": "stream",
     "text": [
      "[0, 0, 0, 0, 0, 0, 0, 0, 0, 0, 0, '02/01/2019 16:00:00', 0, 0, 0, 0, 0, 0, 0, '03/01/2019 00:00:00', 0, 0, 0, 0, 0, 0, 0, 0, 0, 0, '03/01/2019 11:00:00', 0, 0, 0, '03/01/2019 15:00:00', 0, 0, 0, 0, 0, '03/01/2019 21:00:00', 0, 0, 0, 0, 0, 0, 0, 0, 0, 0, 0, 0, '04/01/2019 10:00:00', 0, 0, 0, 0, 0, 0, '04/01/2019 17:00:00', 0, 0, 0, '04/01/2019 21:00:00', '04/01/2019 22:00:00', 0, 0, 0, 0, '07/01/2019 01:00:00', 0, 0, 0, 0, 0, 0, 0, '07/01/2019 09:00:00', 0, 0, 0, '07/01/2019 13:00:00', 0, 0, 0, 0, 0, 0, 0, 0, 0, 0, 0, '08/01/2019 01:00:00', 0, 0, 0, 0, 0, 0, '08/01/2019 08:00:00', 0, 0, 0, 0, 0, 0, 0, 0, 0, 0, 0, 0, 0, 0, 0, 0, '09/01/2019 01:00:00', 0, '09/01/2019 03:00:00', 0, '09/01/2019 05:00:00', '09/01/2019 06:00:00', 0, 0, 0, 0, 0, 0, 0, 0, 0, 0, '09/01/2019 17:00:00', 0, 0, 0, '09/01/2019 21:00:00', 0, 0, 0, 0, '10/01/2019 02:00:00', '10/01/2019 03:00:00', 0, 0, 0, 0, 0, 0, 0, 0, 0, 0, 0, 0, '10/01/2019 16:00:00', 0, 0, 0, '10/01/2019 20:00:00', 0, 0, '10/01/2019 23:00:00', 0, 0, 0, 0, 0, 0, 0, 0, 0, 0, 0, 0, 0, 0, 0, 0, 0, 0, 0, 0, 0, '11/01/2019 21:00:00', 0, '13/01/2019 19:00:00', 0, '13/01/2019 21:00:00', 0, 0, 0, 0, 0, 0, 0, '14/01/2019 05:00:00', 0]\n"
     ]
    }
   ],
   "source": [
    "\n",
    "#Create a Doji Column, replace Doji points with with an candle close price\n",
    "df['doji'] = doji\n",
    "df['doji'] = np.where(df['doji'] > 0, close, 0)\n",
    "\n",
    "df['doji_star'] = doji_star\n",
    "df['doji_star'] = np.where(df['doji_star'] > 0, close, 0)\n",
    "\n",
    "#Create new Complete_Doji column, merges both columns together and finds maximas\n",
    "df['complete_doji'] = np.where(df['doji'] > 0, df['doji'], df['doji_star'])\n",
    "complete_doji = df['complete_doji']\n",
    "complete_doji_prices = [x for x in complete_doji if x != 0]\n",
    "\n",
    "df['complete_doji_idx'] = np.where(df['complete_doji'] > 0, complete_doji.index, 0)\n",
    "complete_doji_idx = df['complete_doji_idx']\n",
    "complete_doji_idx = list(complete_doji_idx)\n",
    "print(complete_doji_idx)\n",
    "#print(complete_doji_idx)"
   ]
  },
  {
   "cell_type": "code",
   "execution_count": 12,
   "id": "906c3e6d-556b-4518-aacc-202f0000afc4",
   "metadata": {},
   "outputs": [],
   "source": [
    "#TA-LIB Trend line scanner - https://ta-lib.github.io/ta-lib-python/func_groups/pattern_recognition.html\n",
    "trend_line = talib.HT_TRENDLINE(close)\n",
    "\n",
    "#Replace first 63 rows, 'NaN' values with 0s, create a new Trendline Column\n",
    "trend_line.fillna(0, inplace=True)\n",
    "df['trend_line'] = trend_line\n",
    "\n",
    "#TA-LIB RSI Scanner\n",
    "rsi = talib.RSI(close, timeperiod=7)\n",
    "\n",
    "#Fill 'NaN' values with 0s\n",
    "df['rsi'] = rsi.fillna(0)\n",
    "\n",
    "#Create new columns for RSI70 and RSI30 and fill with rsi values if Above/Below\n",
    "df['rsi70'] = np.where(df['rsi'] >= 70, rsi, 0)\n",
    "df['rsi30'] = np.where(df['rsi'] <= 30, rsi, 0)"
   ]
  },
  {
   "cell_type": "code",
   "execution_count": 13,
   "id": "edefd388-55cb-48b8-8525-c98c9fdd005c",
   "metadata": {},
   "outputs": [],
   "source": [
    "#Create Above/Below trend columns and insert Doji prices if Above/Below trend line\n",
    "df['above_trend'] = np.where(df['complete_doji'] > df['trend_line'], df.complete_doji, 0)\n",
    "above_trend = df['above_trend']\n",
    "df['below_trend'] = np.where(df['complete_doji'] < df['trend_line'], df.complete_doji, 0)\n",
    "below_trend = df['below_trend']\n",
    "\n",
    "df['five_max'] = np.where(df['above_trend'] > 0, 1, 0)\n",
    "five_max = df['five_max']\n",
    "five_max_list = list(five_max)\n",
    "\n",
    "df['five_min'] = np.where(df['below_trend'] > 0, 1, 0)\n",
    "five_min = df['five_min']\n",
    "five_min_list = list(five_min)"
   ]
  },
  {
   "cell_type": "code",
   "execution_count": 14,
   "id": "c9c9d3dd-069d-4f97-861d-60c9638c2686",
   "metadata": {},
   "outputs": [
    {
     "name": "stderr",
     "output_type": "stream",
     "text": [
      "/var/folders/qn/rlcshjw96356m1p9pp9vl9h40000gp/T/ipykernel_33488/2904143024.py:3: FutureWarning: Series.__getitem__ treating keys as positions is deprecated. In a future version, integer keys will always be treated as labels (consistent with DataFrame behavior). To access a value by position, use `ser.iloc[pos]`\n",
      "  five_max_list[i-1] = high[i+1]\n",
      "/var/folders/qn/rlcshjw96356m1p9pp9vl9h40000gp/T/ipykernel_33488/2904143024.py:4: FutureWarning: Series.__getitem__ treating keys as positions is deprecated. In a future version, integer keys will always be treated as labels (consistent with DataFrame behavior). To access a value by position, use `ser.iloc[pos]`\n",
      "  five_max_list[i - 2] = high[i+2]\n",
      "/var/folders/qn/rlcshjw96356m1p9pp9vl9h40000gp/T/ipykernel_33488/2904143024.py:5: FutureWarning: Series.__getitem__ treating keys as positions is deprecated. In a future version, integer keys will always be treated as labels (consistent with DataFrame behavior). To access a value by position, use `ser.iloc[pos]`\n",
      "  five_max_list[i - 3] = high[i+3]\n"
     ]
    }
   ],
   "source": [
    "for i in range(len(five_max_list)):\n",
    "    if five_max_list[i] == 1:\n",
    "        five_max_list[i-1] = high[i+1]\n",
    "        five_max_list[i - 2] = high[i+2]\n",
    "        five_max_list[i - 3] = high[i+3]\n",
    "        #five_max_list[i - 4] = 1\n",
    "    else:\n",
    "        pass\n",
    "\n",
    "for i in range(len(five_min_list)):\n",
    "    if five_min_list[i] == 1:\n",
    "        five_min_list[i-1] = 1\n",
    "        five_min_list[i - 2] = 1\n",
    "        five_min_list[i - 3] = 1\n",
    "        #five_min_list[i - 4] = 1\n",
    "    else:\n",
    "        pass\n",
    "\n",
    "df['Five_max_list'] = five_max_list\n",
    "df['Five_max_list'] = np.where(df['Five_max_list'] > 0, high, 0)\n",
    "five_max_list = df['Five_max_list']\n",
    "df['Five_min_list'] = five_min_list\n",
    "df['Five_min_list'] = np.where(df['Five_min_list'] > 0, low, 0)\n",
    "five_min_list = df['Five_min_list']"
   ]
  },
  {
   "cell_type": "code",
   "execution_count": 18,
   "id": "2e0b6943-2134-469c-8852-f215e512dbe8",
   "metadata": {},
   "outputs": [
    {
     "data": {
      "image/png": "[encoded data removed]",
      "text/plain": [
       "<Figure size 1500x900 with 1 Axes>"
      ]
     },
     "metadata": {},
     "output_type": "display_data"
    }
   ],
   "source": [
    "#Set up a windows size and plot OHLC\n",
    "fig, ax = plt.subplots(figsize=[15, 9])\n",
    "candlestick2_ohlc(ax, df['open'], df['high'], df['low'], df['close'], colorup='green', colordown='red', width=0.5)\n",
    "\n",
    "#Plot valid Doji prices on graph, x and y are same length in this data set\n",
    "#Doji_idx returns only indexes with valid doji pattern, doji return a price value\n",
    "#plt.scatter(complete_doji_idx.index, complete_doji_prices, color='b')\n",
    "\n",
    "def max_to_nan(five_max_list):\n",
    "    return[float('nan') if x == 0 else x for x in five_max_list]\n",
    "plt.plot(max_to_nan(five_max_list), color='b')\n",
    "\n",
    "def min_to_nan(five_min_list):\n",
    "    return[float('nan') if x == 0 else x for x in five_min_list]\n",
    "plt.plot(min_to_nan(five_min_list), color='b')\n",
    "\n",
    "# #Get rid of '0' values and replace with 'NaN' for plotting a graph\n",
    "# #This is a full data list e.g. 200 rows, both x and y are same lenght\n",
    "# def trend_to_nan(trend_line):\n",
    "#     return[float('nan') if x == 0 else x for x in trend_line]\n",
    "# plt.plot(trend_to_nan(trend_line))\n",
    "\n",
    "plt.show()"
   ]
  },
  {
   "cell_type": "code",
   "execution_count": 16,
   "id": "33bab58e-b673-4a1e-9b10-99eda736b7a9",
   "metadata": {},
   "outputs": [],
   "source": [
    "#Generate a new CSV File with complete data frame\n",
    "df.to_csv(\"doji-out.csv\")"
   ]
  }
 ],
 "metadata": {
  "kernelspec": {
   "display_name": "Python 3 (ipykernel)",
   "language": "python",
   "name": "python3"
  },
  "language_info": {
   "codemirror_mode": {
    "name": "ipython",
    "version": 3
   },
   "file_extension": ".py",
   "mimetype": "text/x-python",
   "name": "python",
   "nbconvert_exporter": "python",
   "pygments_lexer": "ipython3",
   "version": "3.12.2"
  }
 },
 "nbformat": 4,
 "nbformat_minor": 5
}
