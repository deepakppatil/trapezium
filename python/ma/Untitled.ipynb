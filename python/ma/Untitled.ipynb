{
 "cells": [
  {
   "cell_type": "code",
   "execution_count": 5,
   "id": "3bae728a-7b49-4550-8b9a-70693d7cee9c",
   "metadata": {},
   "outputs": [
    {
     "name": "stderr",
     "output_type": "stream",
     "text": [
      "[*********************100%%**********************]  1 of 1 completed\n"
     ]
    },
    {
     "ename": "AttributeError",
     "evalue": "module 'mplfinance' has no attribute 'subplots'",
     "output_type": "error",
     "traceback": [
      "\u001b[0;31m---------------------------------------------------------------------------\u001b[0m",
      "\u001b[0;31mAttributeError\u001b[0m                            Traceback (most recent call last)",
      "Cell \u001b[0;32mIn[5], line 12\u001b[0m\n\u001b[1;32m      9\u001b[0m \u001b[38;5;66;03m# Fetch the stock data using yfinance\u001b[39;00m\n\u001b[1;32m     10\u001b[0m data \u001b[38;5;241m=\u001b[39m yf\u001b[38;5;241m.\u001b[39mdownload(ticker, start\u001b[38;5;241m=\u001b[39mstart_date, end\u001b[38;5;241m=\u001b[39mend_date)\n\u001b[0;32m---> 12\u001b[0m fig, ax \u001b[38;5;241m=\u001b[39m \u001b[43mmpf\u001b[49m\u001b[38;5;241;43m.\u001b[39;49m\u001b[43msubplots\u001b[49m(figsize\u001b[38;5;241m=\u001b[39m[\u001b[38;5;241m15\u001b[39m, \u001b[38;5;241m9\u001b[39m])\n\u001b[1;32m     14\u001b[0m \u001b[38;5;66;03m# Plot a candlestick chart with 10-day SMA and 20-day EMA\u001b[39;00m\n\u001b[1;32m     15\u001b[0m mpf\u001b[38;5;241m.\u001b[39mplot(data, \u001b[38;5;28mtype\u001b[39m\u001b[38;5;241m=\u001b[39m\u001b[38;5;124m\"\u001b[39m\u001b[38;5;124mcandle\u001b[39m\u001b[38;5;124m\"\u001b[39m, mav\u001b[38;5;241m=\u001b[39m(\u001b[38;5;241m10\u001b[39m, \u001b[38;5;241m20\u001b[39m), volume\u001b[38;5;241m=\u001b[39m\u001b[38;5;28;01mTrue\u001b[39;00m)\n",
      "\u001b[0;31mAttributeError\u001b[0m: module 'mplfinance' has no attribute 'subplots'"
     ]
    }
   ],
   "source": [
    "import yfinance as yf\n",
    "import mplfinance as mpf\n",
    "\n",
    "# Set the ticker symbol and timeframe\n",
    "ticker = \"ICICIBANK.NS\"\n",
    "start_date = \"2023-05-01\"\n",
    "end_date = \"2024-04-30\"\n",
    "\n",
    "# Fetch the stock data using yfinance\n",
    "data = yf.download(ticker, start=start_date, end=end_date)\n",
    "\n",
    "fig, ax = mpf.subplots(figsize=[15, 9])\n",
    "\n",
    "# Plot a candlestick chart with 10-day SMA and 20-day EMA\n",
    "mpf.plot(data, type=\"candle\", mav=(10, 20), volume=True)"
   ]
  }
 ],
 "metadata": {
  "kernelspec": {
   "display_name": "Python 3 (ipykernel)",
   "language": "python",
   "name": "python3"
  },
  "language_info": {
   "codemirror_mode": {
    "name": "ipython",
    "version": 3
   },
   "file_extension": ".py",
   "mimetype": "text/x-python",
   "name": "python",
   "nbconvert_exporter": "python",
   "pygments_lexer": "ipython3",
   "version": "3.12.2"
  }
 },
 "nbformat": 4,
 "nbformat_minor": 5
}
